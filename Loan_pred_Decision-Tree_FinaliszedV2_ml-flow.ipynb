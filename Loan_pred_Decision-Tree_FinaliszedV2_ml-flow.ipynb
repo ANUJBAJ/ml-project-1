{
 "cells": [
  {
   "cell_type": "code",
   "execution_count": 1,
   "id": "7f9c805e",
   "metadata": {},
   "outputs": [],
   "source": [
    "import pandas as pd\n",
    "import seaborn as sns\n",
    "from matplotlib import pyplot as plt\n",
    "from sklearn.preprocessing import OneHotEncoder, LabelEncoder\n",
    "import numpy as np\n",
    "import copy\n",
    "import json\n",
    "import pickle"
   ]
  },
  {
   "cell_type": "code",
   "execution_count": 2,
   "id": "92331a1a",
   "metadata": {},
   "outputs": [],
   "source": [
    "def missing_values_preprocess(dt_fr,flag):\n",
    "    dt_fr.drop(columns = ['Loan_ID'],inplace =True)\n",
    "    if flag == 0:\n",
    "        num_feat = [var for var in dt_fr.columns if  dt_fr[var].isnull().mean() > 0 and dt_fr[var].dtypes == 'float']\n",
    "        feat_1 = [var for var in dt_fr.columns if  dt_fr[var].isnull().mean() > 0 and dt_fr[var].dtypes == 'object']\n",
    "        feat_2 = [var for var in dt_fr.columns if var not in feat_1 and dt_fr[var].dtypes == 'object']\n",
    "        feat_1.append('Credit_History')\n",
    "        emp_lst = []\n",
    "        for var in feat_1:\n",
    "            emp_lst.append(dt_fr[var].mode())\n",
    "            #print(emp_lst)\n",
    "        dt_fr1 = dt_fr.fillna({'Gender':emp_lst[0][0],'Married':emp_lst[1][0],'Dependents':emp_lst[2][0],'Self_Employed':emp_lst[3][0]})\n",
    "        t1 = dt_fr['Credit_History'].mode()\n",
    "        dt_fr2 = dt_fr1.fillna({'LoanAmount':dt_fr1['LoanAmount'].mean(), 'Loan_Amount_Term':dt_fr1['Loan_Amount_Term'].mean(), 'Credit_History':emp_lst[4][0]})\n",
    "        if dt_fr2.isnull().sum().sum() == 0 :\n",
    "            return (dt_fr2,feat_1,feat_2)\n",
    "    else:\n",
    "        \n",
    "        dt_fr.dropna(inplace =True)\n",
    "        feat_1 = [var for var in dt_fr.columns if  dt_fr[var].dtypes == 'object']\n",
    "        #feat_2 = [var for var in dt_fr.columns if var not in feat_1 and dt_fr[var].dtypes == 'object']\n",
    "        dt_fr.reset_index(drop = True,inplace = True)\n",
    "        if dt_fr.isnull().sum().sum() == 0 :\n",
    "            return (dt_fr,feat_1)       "
   ]
  },
  {
   "cell_type": "code",
   "execution_count": 3,
   "id": "d1da64c5",
   "metadata": {},
   "outputs": [],
   "source": [
    "le = LabelEncoder()\n",
    "def label_encoding(df_1,feat_lst):\n",
    "    Cat_labl_dct = {}\n",
    "    for var in feat_lst:\n",
    "        df_1[var] = le.fit_transform(df_1[var])\n",
    "        mapping = dict(zip(le.classes_, map(int, le.transform(le.classes_))))\n",
    "        Cat_labl_dct[var] = mapping\n",
    "        json_object = json.dumps(Cat_labl_dct, indent=4)\n",
    "        with open(\"sample.json\", \"w\") as outfile:\n",
    "            json.dump(Cat_labl_dct, outfile)\n",
    "    return df_1"
   ]
  },
  {
   "cell_type": "code",
   "execution_count": 4,
   "id": "24ec4cee",
   "metadata": {},
   "outputs": [],
   "source": [
    "ohe = OneHotEncoder()\n",
    "def O_H_Encd(ohe_lst,l2,df_2):\n",
    "    X_tmp = ohe.fit_transform(df_2[ohe_lst]).toarray()\n",
    "    X_tmp = X_tmp[:,(0,2,4,5,7)]\n",
    "    df_ohe = pd.DataFrame(X_tmp,columns = ['Gender','Married','Self_Employed_1','Self_Employed_2','Property_Area'])\n",
    "    df_tmp = df_2[l2]\n",
    "    df_ohe_fn = pd.concat([ df_ohe,df_tmp],axis = 1)\n",
    "    return df_ohe_fn\n"
   ]
  },
  {
   "cell_type": "code",
   "execution_count": 5,
   "id": "723499ce",
   "metadata": {},
   "outputs": [],
   "source": [
    "from sklearn.tree import DecisionTreeClassifier\n",
    "from sklearn.model_selection import train_test_split\n",
    "from sklearn.metrics import accuracy_score,f1_score\n",
    "from sklearn.metrics import confusion_matrix\n",
    "import mlflow\n",
    "mlflow.set_tracking_uri(\"sqlite:///mlflow.db\")\n",
    "mlflow.set_experiment('Loan_Prediction_1')\n",
    "def Model(X_train,X_Val,Y_train,Y_Val ):\n",
    "    with mlflow.start_run(run_name = 'P_Decision_tree') as parent:\n",
    "        Parameters_P = {'max_depth' : 8 , 'min_samples_leaf' : 5}\n",
    "        mlflow.log_params(Parameters_P)\n",
    "        dt=DecisionTreeClassifier(max_depth = 5,min_samples_leaf = 3)\n",
    "        dt.fit(X_train,Y_train)\n",
    "        Prediction_Tr = dt.predict(X_train)\n",
    "        Prediction_Val = dt.predict(X_Val)\n",
    "        Prediction_Tst = dt.predict(df_tst_rtrn.iloc[:])\n",
    "        Score_Tr = accuracy_score(Y_train,Prediction_Tr)\n",
    "        Score_Val = accuracy_score(Y_Val,Prediction_Val)\n",
    "        filename = 'finalized_model.sav'\n",
    "        pickle.dump(dt, open(filename, 'wb'))\n",
    "        print(f'The accuracy for Training dataset is {Score_Tr}')\n",
    "        print(f'The accuracy for Validation dataset is {Score_Val}')\n",
    "        print(f'The f1 score for Training dataset is {f1_score(Y_train,Prediction_Tr)}')\n",
    "        print(f'The f1 score for Validation dataset is {f1_score(Y_Val,Prediction_Val)}')\n",
    "        metrics_dict = {'Acc_tr':Score_Tr,'Acc_val':Score_Val,'f1_score_training':f1_score(Y_train,Prediction_Tr),'f1_score_Validation':f1_score(Y_Val,Prediction_Val)}\n",
    "        mlflow.log_metrics(metrics_dict)\n",
    "        mlflow.sklearn.log_model(dt,'SK_models')\n",
    "        \n",
    "        return (Prediction_Tr,Prediction_Val,Prediction_Tst)\n",
    "       "
   ]
  },
  {
   "cell_type": "code",
   "execution_count": 6,
   "id": "03d741ee",
   "metadata": {},
   "outputs": [],
   "source": [
    "def Preparing_fnl_Df(Prediction_Tr,Prediction_Val,flag):\n",
    "    if flag == 'train':\n",
    "        tmp = pd.DataFrame(data = Prediction_Tr,columns = ['Predicted'])\n",
    "        tmp1 = pd.DataFrame(data = Prediction_Val,columns = ['Predicted'])\n",
    "        tmp = pd.concat([tmp,tmp1],axis = 0)\n",
    "        df_fn_train['Prediction'] = tmp.values\n",
    "        df_fn_train.loc[df_fn_train['Prediction'] == 1,'Prediction'] = 'y'\n",
    "        df_fn_train.loc[df_fn_train['Prediction'] == 0,'Prediction'] = 'N'\n",
    "        return  df_fn_train\n",
    "    if flag == 'test':\n",
    "        df_fn_test['Prediction'] = Prediction_Tr\n",
    "        df_fn_test.loc[df_fn_test['Prediction'] == 1,'Prediction'] = 'y'\n",
    "        df_fn_test.loc[df_fn_test['Prediction'] == 0,'Prediction'] = 'N'\n",
    "        return  df_fn_test\n",
    "        "
   ]
  },
  {
   "cell_type": "code",
   "execution_count": 7,
   "id": "16ba0771",
   "metadata": {},
   "outputs": [],
   "source": [
    "df_tr = pd.read_csv('/home/anuj/Documents/ANUJ_Project/RADHA_My_frst_project_preplaced/Loan_pred/Training Dataset.csv')\n",
    "df_tst = pd.read_csv('/home/anuj/Documents/ANUJ_Project/RADHA_My_frst_project_preplaced/Loan_pred/Test Dataset.csv')\n"
   ]
  },
  {
   "cell_type": "code",
   "execution_count": 8,
   "id": "82465de8",
   "metadata": {},
   "outputs": [],
   "source": [
    "df_tr_rtrn,cat_feat,cat_feat_1 = missing_values_preprocess(df_tr,0)\n",
    "df_tst_rtrn,cat_feat_tst = missing_values_preprocess(df_tst,1)\n",
    "df_fn_test= copy.deepcopy(df_tst_rtrn)\n",
    "df_fn_train = copy.deepcopy(df_tr_rtrn)\n"
   ]
  },
  {
   "cell_type": "code",
   "execution_count": 9,
   "id": "4b657c4e",
   "metadata": {},
   "outputs": [],
   "source": [
    "df_tr_rtrn = label_encoding(df_tr_rtrn,cat_feat) \n",
    "df_tr_rtrn = label_encoding(df_tr_rtrn,cat_feat_1)\n",
    "df_tst_rtrn = label_encoding(df_tst_rtrn,cat_feat_tst)\n",
    "df_tr_rtrn['Loan_Status'] = df_tr['Loan_Status'] \n",
    "df_tr_rtrn['Loan_Status'] = le.fit_transform(df_tr['Loan_Status'])\n"
   ]
  },
  {
   "cell_type": "code",
   "execution_count": 10,
   "id": "8a4ada8c",
   "metadata": {},
   "outputs": [],
   "source": [
    "# lst_2 = ['ApplicantIncome', 'CoapplicantIncome', 'LoanAmount','Loan_Amount_Term', 'Credit_History', 'Property_Area','Education','Loan_Status']\n",
    "# lst_1 = ['Gender','Married','Self_Employed','Property_Area']\n",
    "# lst_3 = ['ApplicantIncome', 'CoapplicantIncome', 'LoanAmount','Loan_Amount_Term', 'Credit_History', 'Property_Area','Education']\n",
    "# df_tr_final = O_H_Encd(lst_1,lst_2,df_tr_rtrn)\n",
    "# df_tst_final = O_H_Encd(lst_1,lst_3,df_tst_rtrn)\n"
   ]
  },
  {
   "cell_type": "code",
   "execution_count": 11,
   "id": "e203cb6c",
   "metadata": {},
   "outputs": [
    {
     "name": "stdout",
     "output_type": "stream",
     "text": [
      "(491, 11)\n",
      "The accuracy for Training dataset is 0.8289205702647657\n",
      "The accuracy for Validation dataset is 0.7804878048780488\n",
      "The f1 score for Training dataset is 0.8855585831062671\n",
      "The f1 score for Validation dataset is 0.8524590163934426\n"
     ]
    }
   ],
   "source": [
    "#X_tr,X_V,Y_tr,Y_V = train_test_split(df_tr_final.iloc[:,0:-1],df_tr_final.iloc[:,-1],test_size=0.2,random_state=42,shuffle=False)\n",
    "X_tr,X_V,Y_tr,Y_V = train_test_split(df_tr_rtrn.iloc[:,0:-1],df_tr_rtrn.iloc[:,-1],test_size=0.2,random_state=42,shuffle=False)\n",
    "print(X_tr.shape)\n",
    "Prediction_Tr,Prediction_Val,Prediction_Tst = Model(X_tr,X_V,Y_tr,Y_V )"
   ]
  },
  {
   "cell_type": "code",
   "execution_count": 12,
   "id": "658f60ba",
   "metadata": {},
   "outputs": [],
   "source": [
    "df_train_set_otpt = Preparing_fnl_Df(Prediction_Tr,Prediction_Val,'train')\n",
    "df_test_set_otpt = Preparing_fnl_Df(Prediction_Tst,Prediction_Val,'test')"
   ]
  },
  {
   "cell_type": "code",
   "execution_count": null,
   "id": "3041cf7d",
   "metadata": {},
   "outputs": [],
   "source": []
  }
 ],
 "metadata": {
  "kernelspec": {
   "display_name": "Python 3 (ipykernel)",
   "language": "python",
   "name": "python3"
  },
  "language_info": {
   "codemirror_mode": {
    "name": "ipython",
    "version": 3
   },
   "file_extension": ".py",
   "mimetype": "text/x-python",
   "name": "python",
   "nbconvert_exporter": "python",
   "pygments_lexer": "ipython3",
   "version": "3.9.7"
  }
 },
 "nbformat": 4,
 "nbformat_minor": 5
}
